{
  "cells": [
    {
      "cell_type": "markdown",
      "source": [
        "# Simple Linear Regression for stock using scikit-learn\n"
      ],
      "metadata": {}
    },
    {
      "cell_type": "code",
      "source": [
        "import pandas as pd\n",
        "import numpy as np\n",
        "import math\n",
        "\n",
        "import os\n",
        "import platform\n",
        "\n",
        "import sklearn\n",
        "from sklearn.linear_model import LinearRegression\n",
        "from sklearn.model_selection import train_test_split\n",
        "from sklearn.metrics import mean_squared_error\n",
        "\n",
        "%matplotlib inline\n",
        "\n",
        "import warnings\n",
        "warnings.filterwarnings(\"ignore\")\n",
        "\n",
        "import yfinance as yf\n",
        "yf.pdr_override()"
      ],
      "outputs": [],
      "execution_count": 1,
      "metadata": {
        "collapsed": false,
        "outputHidden": false,
        "inputHidden": false,
        "execution": {
          "iopub.status.busy": "2022-09-28T16:49:31.632Z",
          "iopub.execute_input": "2022-09-28T16:49:31.635Z",
          "iopub.status.idle": "2022-09-28T16:49:32.978Z",
          "shell.execute_reply": "2022-09-28T16:49:33.013Z"
        }
      }
    },
    {
      "cell_type": "code",
      "source": [
        "print(\"numpy: \", np.__version__)\n",
        "print(\"pandas: \", pd.__version__)\n",
        "print(\"sklearn: \", sklearn.__version__)\n",
        "print(\"yfinance: \", yf.__version__)\n",
        "print(\"os system: \", os.name)\n",
        "print(\"Platform System: \", platform.system())"
      ],
      "outputs": [
        {
          "output_type": "stream",
          "name": "stdout",
          "text": [
            "numpy:  1.19.5\n",
            "pandas:  1.1.5\n",
            "sklearn:  0.24.2\n",
            "yfinance:  0.1.63\n",
            "os system:  nt\n",
            "Platform System:  Windows\n"
          ]
        }
      ],
      "execution_count": 2,
      "metadata": {
        "collapsed": true,
        "jupyter": {
          "source_hidden": false,
          "outputs_hidden": false
        },
        "nteract": {
          "transient": {
            "deleting": false
          }
        },
        "execution": {
          "iopub.status.busy": "2022-09-28T16:49:32.982Z",
          "iopub.execute_input": "2022-09-28T16:49:32.985Z",
          "iopub.status.idle": "2022-09-28T16:49:32.993Z",
          "shell.execute_reply": "2022-09-28T16:49:33.016Z"
        }
      }
    },
    {
      "cell_type": "code",
      "source": [
        "stock = 'AAPL'\n",
        "start = '2016-01-01' \n",
        "end = '2018-01-01'\n",
        "data = yf.download(stock, start, end)\n",
        "data.head()"
      ],
      "outputs": [
        {
          "output_type": "stream",
          "name": "stdout",
          "text": [
            "[*********************100%***********************]  1 of 1 completed\n"
          ]
        },
        {
          "output_type": "execute_result",
          "execution_count": 3,
          "data": {
            "text/plain": "                 Open       High        Low      Close  Adj Close     Volume\nDate                                                                        \n2016-01-04  25.652500  26.342501  25.500000  26.337500  24.151495  270597600\n2016-01-05  26.437500  26.462500  25.602501  25.677500  23.546276  223164000\n2016-01-06  25.139999  25.592501  24.967501  25.174999  23.085484  273829600\n2016-01-07  24.670000  25.032499  24.107500  24.112499  22.111170  324377600\n2016-01-08  24.637501  24.777500  24.190001  24.240000  22.228088  283192000",
            "text/html": "<div>\n<style scoped>\n    .dataframe tbody tr th:only-of-type {\n        vertical-align: middle;\n    }\n\n    .dataframe tbody tr th {\n        vertical-align: top;\n    }\n\n    .dataframe thead th {\n        text-align: right;\n    }\n</style>\n<table border=\"1\" class=\"dataframe\">\n  <thead>\n    <tr style=\"text-align: right;\">\n      <th></th>\n      <th>Open</th>\n      <th>High</th>\n      <th>Low</th>\n      <th>Close</th>\n      <th>Adj Close</th>\n      <th>Volume</th>\n    </tr>\n    <tr>\n      <th>Date</th>\n      <th></th>\n      <th></th>\n      <th></th>\n      <th></th>\n      <th></th>\n      <th></th>\n    </tr>\n  </thead>\n  <tbody>\n    <tr>\n      <th>2016-01-04</th>\n      <td>25.652500</td>\n      <td>26.342501</td>\n      <td>25.500000</td>\n      <td>26.337500</td>\n      <td>24.151495</td>\n      <td>270597600</td>\n    </tr>\n    <tr>\n      <th>2016-01-05</th>\n      <td>26.437500</td>\n      <td>26.462500</td>\n      <td>25.602501</td>\n      <td>25.677500</td>\n      <td>23.546276</td>\n      <td>223164000</td>\n    </tr>\n    <tr>\n      <th>2016-01-06</th>\n      <td>25.139999</td>\n      <td>25.592501</td>\n      <td>24.967501</td>\n      <td>25.174999</td>\n      <td>23.085484</td>\n      <td>273829600</td>\n    </tr>\n    <tr>\n      <th>2016-01-07</th>\n      <td>24.670000</td>\n      <td>25.032499</td>\n      <td>24.107500</td>\n      <td>24.112499</td>\n      <td>22.111170</td>\n      <td>324377600</td>\n    </tr>\n    <tr>\n      <th>2016-01-08</th>\n      <td>24.637501</td>\n      <td>24.777500</td>\n      <td>24.190001</td>\n      <td>24.240000</td>\n      <td>22.228088</td>\n      <td>283192000</td>\n    </tr>\n  </tbody>\n</table>\n</div>"
          },
          "metadata": {}
        }
      ],
      "execution_count": 3,
      "metadata": {
        "collapsed": false,
        "outputHidden": false,
        "inputHidden": false,
        "execution": {
          "iopub.status.busy": "2022-09-28T16:49:33.000Z",
          "iopub.execute_input": "2022-09-28T16:49:33.003Z",
          "iopub.status.idle": "2022-09-28T16:49:33.840Z",
          "shell.execute_reply": "2022-09-28T16:49:33.981Z"
        }
      }
    },
    {
      "cell_type": "code",
      "source": [
        "df = data.reset_index()\n",
        "df.head()"
      ],
      "outputs": [
        {
          "output_type": "execute_result",
          "execution_count": 4,
          "data": {
            "text/plain": "        Date       Open       High        Low      Close  Adj Close     Volume\n0 2016-01-04  25.652500  26.342501  25.500000  26.337500  24.151495  270597600\n1 2016-01-05  26.437500  26.462500  25.602501  25.677500  23.546276  223164000\n2 2016-01-06  25.139999  25.592501  24.967501  25.174999  23.085484  273829600\n3 2016-01-07  24.670000  25.032499  24.107500  24.112499  22.111170  324377600\n4 2016-01-08  24.637501  24.777500  24.190001  24.240000  22.228088  283192000",
            "text/html": "<div>\n<style scoped>\n    .dataframe tbody tr th:only-of-type {\n        vertical-align: middle;\n    }\n\n    .dataframe tbody tr th {\n        vertical-align: top;\n    }\n\n    .dataframe thead th {\n        text-align: right;\n    }\n</style>\n<table border=\"1\" class=\"dataframe\">\n  <thead>\n    <tr style=\"text-align: right;\">\n      <th></th>\n      <th>Date</th>\n      <th>Open</th>\n      <th>High</th>\n      <th>Low</th>\n      <th>Close</th>\n      <th>Adj Close</th>\n      <th>Volume</th>\n    </tr>\n  </thead>\n  <tbody>\n    <tr>\n      <th>0</th>\n      <td>2016-01-04</td>\n      <td>25.652500</td>\n      <td>26.342501</td>\n      <td>25.500000</td>\n      <td>26.337500</td>\n      <td>24.151495</td>\n      <td>270597600</td>\n    </tr>\n    <tr>\n      <th>1</th>\n      <td>2016-01-05</td>\n      <td>26.437500</td>\n      <td>26.462500</td>\n      <td>25.602501</td>\n      <td>25.677500</td>\n      <td>23.546276</td>\n      <td>223164000</td>\n    </tr>\n    <tr>\n      <th>2</th>\n      <td>2016-01-06</td>\n      <td>25.139999</td>\n      <td>25.592501</td>\n      <td>24.967501</td>\n      <td>25.174999</td>\n      <td>23.085484</td>\n      <td>273829600</td>\n    </tr>\n    <tr>\n      <th>3</th>\n      <td>2016-01-07</td>\n      <td>24.670000</td>\n      <td>25.032499</td>\n      <td>24.107500</td>\n      <td>24.112499</td>\n      <td>22.111170</td>\n      <td>324377600</td>\n    </tr>\n    <tr>\n      <th>4</th>\n      <td>2016-01-08</td>\n      <td>24.637501</td>\n      <td>24.777500</td>\n      <td>24.190001</td>\n      <td>24.240000</td>\n      <td>22.228088</td>\n      <td>283192000</td>\n    </tr>\n  </tbody>\n</table>\n</div>"
          },
          "metadata": {}
        }
      ],
      "execution_count": 4,
      "metadata": {
        "collapsed": false,
        "outputHidden": false,
        "inputHidden": false,
        "execution": {
          "iopub.status.busy": "2022-09-28T16:49:33.845Z",
          "iopub.execute_input": "2022-09-28T16:49:33.849Z",
          "iopub.status.idle": "2022-09-28T16:49:33.859Z",
          "shell.execute_reply": "2022-09-28T16:49:33.983Z"
        }
      }
    },
    {
      "cell_type": "code",
      "source": [
        "X = df.drop(['Date','Close'], axis=1)\n",
        "y = df['Adj Close']"
      ],
      "outputs": [],
      "execution_count": 5,
      "metadata": {
        "collapsed": false,
        "outputHidden": false,
        "inputHidden": false,
        "execution": {
          "iopub.status.busy": "2022-09-28T16:49:33.864Z",
          "iopub.execute_input": "2022-09-28T16:49:33.867Z",
          "iopub.status.idle": "2022-09-28T16:49:33.872Z",
          "shell.execute_reply": "2022-09-28T16:49:33.985Z"
        }
      }
    },
    {
      "cell_type": "code",
      "source": [
        "\n",
        "# Split X and y into X_\n",
        "X_train, X_test, y_train, y_test = train_test_split(X, y, \n",
        "                                   test_size=0.25, random_state=0)"
      ],
      "outputs": [],
      "execution_count": 6,
      "metadata": {
        "collapsed": false,
        "outputHidden": false,
        "inputHidden": false,
        "execution": {
          "iopub.status.busy": "2022-09-28T16:49:33.877Z",
          "iopub.execute_input": "2022-09-28T16:49:33.880Z",
          "shell.execute_reply": "2022-09-28T16:49:33.987Z",
          "iopub.status.idle": "2022-09-28T16:49:33.886Z"
        }
      }
    },
    {
      "cell_type": "code",
      "source": [
        "regression_model = LinearRegression()\n",
        "regression_model.fit(X_train, y_train)"
      ],
      "outputs": [
        {
          "output_type": "execute_result",
          "execution_count": 7,
          "data": {
            "text/plain": "LinearRegression()"
          },
          "metadata": {}
        }
      ],
      "execution_count": 7,
      "metadata": {
        "collapsed": false,
        "outputHidden": false,
        "inputHidden": false,
        "execution": {
          "iopub.status.busy": "2022-09-28T16:49:33.891Z",
          "iopub.execute_input": "2022-09-28T16:49:33.894Z",
          "iopub.status.idle": "2022-09-28T16:49:33.900Z",
          "shell.execute_reply": "2022-09-28T16:49:33.989Z"
        }
      }
    },
    {
      "cell_type": "code",
      "source": [
        "intercept = regression_model.intercept_\n",
        "\n",
        "print(\"The intercept for our model is {}\".format(intercept))"
      ],
      "outputs": [
        {
          "output_type": "stream",
          "name": "stdout",
          "text": [
            "The intercept for our model is -1.637801005927031e-12\n"
          ]
        }
      ],
      "execution_count": 8,
      "metadata": {
        "collapsed": false,
        "outputHidden": false,
        "inputHidden": false,
        "execution": {
          "iopub.status.busy": "2022-09-28T16:49:33.905Z",
          "iopub.execute_input": "2022-09-28T16:49:33.909Z",
          "iopub.status.idle": "2022-09-28T16:49:33.916Z",
          "shell.execute_reply": "2022-09-28T16:49:33.991Z"
        }
      }
    },
    {
      "cell_type": "code",
      "source": [
        "regression_model.score(X_test, y_test)"
      ],
      "outputs": [
        {
          "output_type": "execute_result",
          "execution_count": 9,
          "data": {
            "text/plain": "1.0"
          },
          "metadata": {}
        }
      ],
      "execution_count": 9,
      "metadata": {
        "collapsed": false,
        "outputHidden": false,
        "inputHidden": false,
        "execution": {
          "iopub.status.busy": "2022-09-28T16:49:33.922Z",
          "iopub.execute_input": "2022-09-28T16:49:33.925Z",
          "iopub.status.idle": "2022-09-28T16:49:33.933Z",
          "shell.execute_reply": "2022-09-28T16:49:33.993Z"
        }
      }
    },
    {
      "cell_type": "code",
      "source": [
        "y_predict = regression_model.predict(X_test)\n",
        "\n",
        "regression_model_mse = mean_squared_error(y_predict, y_test)\n",
        "\n",
        "regression_model_mse"
      ],
      "outputs": [
        {
          "output_type": "execute_result",
          "execution_count": 10,
          "data": {
            "text/plain": "2.5092207880645975e-25"
          },
          "metadata": {}
        }
      ],
      "execution_count": 10,
      "metadata": {
        "collapsed": false,
        "outputHidden": false,
        "inputHidden": false,
        "execution": {
          "iopub.status.busy": "2022-09-28T16:49:33.938Z",
          "iopub.execute_input": "2022-09-28T16:49:33.941Z",
          "iopub.status.idle": "2022-09-28T16:49:33.949Z",
          "shell.execute_reply": "2022-09-28T16:49:33.996Z"
        }
      }
    },
    {
      "cell_type": "code",
      "source": [
        "math.sqrt(regression_model_mse)"
      ],
      "outputs": [
        {
          "output_type": "execute_result",
          "execution_count": 11,
          "data": {
            "text/plain": "5.009212301414861e-13"
          },
          "metadata": {}
        }
      ],
      "execution_count": 11,
      "metadata": {
        "collapsed": false,
        "outputHidden": false,
        "inputHidden": false,
        "execution": {
          "iopub.status.busy": "2022-09-28T16:49:33.954Z",
          "iopub.execute_input": "2022-09-28T16:49:33.957Z",
          "iopub.status.idle": "2022-09-28T16:49:33.964Z",
          "shell.execute_reply": "2022-09-28T16:49:33.997Z"
        }
      }
    },
    {
      "cell_type": "code",
      "source": [
        "# input the latest Open, High, Low, Close, Volume\n",
        "# predicts the next day price\n",
        "regression_model.predict([[167.81, 171.75, 165.19, 166.48, 37232900]])"
      ],
      "outputs": [
        {
          "output_type": "execute_result",
          "execution_count": 12,
          "data": {
            "text/plain": "array([166.48])"
          },
          "metadata": {}
        }
      ],
      "execution_count": 12,
      "metadata": {
        "collapsed": false,
        "outputHidden": false,
        "inputHidden": false,
        "execution": {
          "iopub.status.busy": "2022-09-28T16:49:33.968Z",
          "iopub.execute_input": "2022-09-28T16:49:33.971Z",
          "iopub.status.idle": "2022-09-28T16:49:33.978Z",
          "shell.execute_reply": "2022-09-28T16:49:33.999Z"
        }
      }
    }
  ],
  "metadata": {
    "kernel_info": {
      "name": "python3"
    },
    "kernelspec": {
      "name": "python3",
      "language": "python",
      "display_name": "Python 3"
    },
    "language_info": {
      "name": "python",
      "version": "3.6.13",
      "mimetype": "text/x-python",
      "codemirror_mode": {
        "name": "ipython",
        "version": 3
      },
      "pygments_lexer": "ipython3",
      "nbconvert_exporter": "python",
      "file_extension": ".py"
    },
    "nteract": {
      "version": "0.28.0"
    }
  },
  "nbformat": 4,
  "nbformat_minor": 4
}